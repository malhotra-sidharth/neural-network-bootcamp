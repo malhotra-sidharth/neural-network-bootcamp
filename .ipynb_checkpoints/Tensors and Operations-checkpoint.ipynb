{
 "cells": [
  {
   "cell_type": "code",
   "execution_count": 1,
   "metadata": {},
   "outputs": [],
   "source": [
    "import torch"
   ]
  },
  {
   "cell_type": "markdown",
   "metadata": {},
   "source": [
    "## Torch Tensors"
   ]
  },
  {
   "cell_type": "code",
   "execution_count": 3,
   "metadata": {},
   "outputs": [
    {
     "name": "stdout",
     "output_type": "stream",
     "text": [
      "tensor([2, 2, 1])\n"
     ]
    }
   ],
   "source": [
    "# 1-D Tensor\n",
    "a = torch.tensor([2, 2, 1])\n",
    "print(a)"
   ]
  },
  {
   "cell_type": "code",
   "execution_count": 17,
   "metadata": {},
   "outputs": [
    {
     "name": "stdout",
     "output_type": "stream",
     "text": [
      "tensor([[2, 1, 4],\n",
      "        [3, 5, 4]])\n"
     ]
    }
   ],
   "source": [
    "# 2-D Tensor\n",
    "b = torch.tensor([[2, 1, 4], [3, 5, 4]])\n",
    "print(b)"
   ]
  },
  {
   "cell_type": "code",
   "execution_count": 8,
   "metadata": {},
   "outputs": [
    {
     "name": "stdout",
     "output_type": "stream",
     "text": [
      "torch.Size([3])\n",
      "torch.Size([2, 3])\n",
      "torch.Size([3])\n",
      "torch.Size([2, 3])\n"
     ]
    }
   ],
   "source": [
    "# Size of tensors\n",
    "# shape and size give same output\n",
    "# however, shape is an attribute and \n",
    "# size is a method\n",
    "print(a.shape)\n",
    "print(b.shape)\n",
    "print(a.size())\n",
    "print(b.size())"
   ]
  },
  {
   "cell_type": "code",
   "execution_count": 15,
   "metadata": {},
   "outputs": [
    {
     "name": "stdout",
     "output_type": "stream",
     "text": [
      "2\n",
      "3\n"
     ]
    }
   ],
   "source": [
    "# get number of rows in b\n",
    "# 0 -> row axis\n",
    "# 1 -> column axis\n",
    "print(b.size(0))\n",
    "print(b.size(1))"
   ]
  },
  {
   "cell_type": "code",
   "execution_count": 20,
   "metadata": {},
   "outputs": [
    {
     "name": "stdout",
     "output_type": "stream",
     "text": [
      "tensor([[2., 2., 1.],\n",
      "        [3., 4., 5.]])\n"
     ]
    }
   ],
   "source": [
    "c = torch.FloatTensor([[2, 2, 1], [3, 4, 5]])\n",
    "print(c)"
   ]
  },
  {
   "cell_type": "code",
   "execution_count": 24,
   "metadata": {},
   "outputs": [
    {
     "name": "stdout",
     "output_type": "stream",
     "text": [
      "tensor([[2., 2., 1.],\n",
      "        [3., 4., 5.]], dtype=torch.float64)\n"
     ]
    }
   ],
   "source": [
    "d = torch.DoubleTensor([[2, 2, 1], [3, 4, 5]])\n",
    "print(d)"
   ]
  },
  {
   "cell_type": "code",
   "execution_count": 25,
   "metadata": {},
   "outputs": [
    {
     "name": "stdout",
     "output_type": "stream",
     "text": [
      "torch.int64\n",
      "torch.float32\n",
      "torch.float64\n"
     ]
    }
   ],
   "source": [
    "print(b.dtype)\n",
    "print(c.dtype)\n",
    "print(d.dtype)"
   ]
  },
  {
   "cell_type": "code",
   "execution_count": 26,
   "metadata": {},
   "outputs": [
    {
     "name": "stdout",
     "output_type": "stream",
     "text": [
      "tensor(2.8333)\n",
      "tensor(1.4720)\n"
     ]
    }
   ],
   "source": [
    "print(c.mean())\n",
    "print(c.std())"
   ]
  },
  {
   "cell_type": "code",
   "execution_count": 27,
   "metadata": {},
   "outputs": [
    {
     "name": "stdout",
     "output_type": "stream",
     "text": [
      "tensor([[2],\n",
      "        [1],\n",
      "        [4],\n",
      "        [3],\n",
      "        [5],\n",
      "        [4]])\n"
     ]
    }
   ],
   "source": [
    "# reshape b\n",
    "# if one of the dimensions is -1, its size can be inferred\n",
    "print(b.view(-1, 1)) # columns as 1, rows will be inferred automatically"
   ]
  },
  {
   "cell_type": "code",
   "execution_count": 28,
   "metadata": {},
   "outputs": [
    {
     "name": "stdout",
     "output_type": "stream",
     "text": [
      "tensor([[[-0.6297,  0.7007,  0.5670,  0.1805],\n",
      "         [-0.0306,  1.1359, -1.3080, -0.2555],\n",
      "         [-0.6422,  1.1092, -1.6220,  0.5195]],\n",
      "\n",
      "        [[ 0.1917, -0.6868,  1.1783,  2.0375],\n",
      "         [ 0.2911, -0.6015, -0.6806, -0.2759],\n",
      "         [ 0.6097, -0.8621,  1.1056,  1.7208]]])\n"
     ]
    }
   ],
   "source": [
    "# 3-D (channels, rows, columns)\n",
    "e = torch.randn(2, 3, 4)\n",
    "print(e)"
   ]
  },
  {
   "cell_type": "code",
   "execution_count": null,
   "metadata": {},
   "outputs": [],
   "source": []
  }
 ],
 "metadata": {
  "kernelspec": {
   "display_name": "Python 3",
   "language": "python",
   "name": "python3"
  },
  "language_info": {
   "codemirror_mode": {
    "name": "ipython",
    "version": 3
   },
   "file_extension": ".py",
   "mimetype": "text/x-python",
   "name": "python",
   "nbconvert_exporter": "python",
   "pygments_lexer": "ipython3",
   "version": "3.6.3"
  }
 },
 "nbformat": 4,
 "nbformat_minor": 2
}
